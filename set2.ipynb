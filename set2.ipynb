{
 "cells": [
  {
   "cell_type": "code",
   "execution_count": 5,
   "metadata": {},
   "outputs": [
    {
     "name": "stdout",
     "output_type": "stream",
     "text": [
      "2550\n"
     ]
    }
   ],
   "source": [
    "# Create a program that sums all even numbers from 1 to 100.\n",
    "i= 0\n",
    "sum = 0\n",
    "for i in range (100+1):\n",
    "    if i %2 ==0:\n",
    "        sum = sum+i\n",
    "    \n",
    "print(sum)"
   ]
  },
  {
   "cell_type": "code",
   "execution_count": null,
   "metadata": {},
   "outputs": [
    {
     "name": "stdout",
     "output_type": "stream",
     "text": [
      "2  *  1  =  2\n",
      "2  *  2  =  4\n",
      "2  *  3  =  6\n",
      "2  *  4  =  8\n",
      "2  *  5  =  10\n",
      "2  *  6  =  12\n",
      "2  *  7  =  14\n",
      "2  *  8  =  16\n",
      "2  *  9  =  18\n",
      "2  *  10  =  20\n"
     ]
    }
   ],
   "source": [
    "# Write a Python script that prints the multiplication table of a user-defined number\n",
    "\n",
    "x  = int(input(\"Enter number\"))\n",
    "for i in range(1, 11):\n",
    "    print(x , \" * \" , i , \" = \" , x*i )"
   ]
  },
  {
   "cell_type": "code",
   "execution_count": 15,
   "metadata": {},
   "outputs": [
    {
     "name": "stdout",
     "output_type": "stream",
     "text": [
      "120\n"
     ]
    }
   ],
   "source": [
    "# Develop a program that calculates the factorial of a number using a loop.\n",
    "\n",
    "x = int(input(\"Enter number\"))\n",
    "\n",
    "fac = 1\n",
    "\n",
    "for i in range(1 , x+1):\n",
    "    fac *=i\n",
    "print(fac)"
   ]
  },
  {
   "cell_type": "code",
   "execution_count": null,
   "metadata": {},
   "outputs": [],
   "source": [
    "# check primes\n",
    "limit = int(input(\"Enter the limit: \"))\n",
    "primes = []\n",
    "\n",
    "for num in range(2, limit + 1):\n",
    "    is_prime = True\n",
    "    for i in range(2, int(num ** 0.5) + 1):\n",
    "        if num % i == 0:\n",
    "            is_prime = False\n",
    "            break\n",
    "    if is_prime:\n",
    "        primes.append(num)\n",
    "\n",
    "print(f\"Prime numbers up to {limit}:\", primes)"
   ]
  },
  {
   "cell_type": "code",
   "execution_count": 16,
   "metadata": {},
   "outputs": [
    {
     "name": "stdout",
     "output_type": "stream",
     "text": [
      "The GCD of 10 and 16 is 2.\n"
     ]
    }
   ],
   "source": [
    "# Write a function that calculates the greatest common divisor (GCD) of two numbers.\n",
    "def gcd(a, b):\n",
    "    while b != 0:\n",
    "        a, b = b, a % b\n",
    "    return a\n",
    "\n",
    "# Example usage\n",
    "x = int(input(\"Enter the first number: \"))\n",
    "y = int(input(\"Enter the second number: \"))\n",
    "\n",
    "print(f\"The GCD of {x} and {y} is {gcd(x, y)}.\")"
   ]
  },
  {
   "cell_type": "code",
   "execution_count": null,
   "metadata": {},
   "outputs": [
    {
     "name": "stdout",
     "output_type": "stream",
     "text": [
      "10\n"
     ]
    }
   ],
   "source": [
    "# Create a Python function that takes a list of numbers and returns the largest number.\n",
    "\n",
    "def largest(num):\n",
    "    return max(num)\n",
    "nums = [1,2,3,4,5,6,7,8,9,10]\n",
    "print(largest(nums))\n",
    "\n",
    "    "
   ]
  },
  {
   "cell_type": "code",
   "execution_count": 21,
   "metadata": {},
   "outputs": [
    {
     "name": "stdout",
     "output_type": "stream",
     "text": [
      "120\n"
     ]
    }
   ],
   "source": [
    "# Implement a function for finding the factorial of a number using recursion.\n",
    "\n",
    "x = int(input(\"Enter numbere\"))\n",
    "\n",
    "def recfac(x):\n",
    "    if x == 0 or x ==1:\n",
    "        return 1\n",
    "    return x * recfac(x-1)\n",
    "print(recfac(x))"
   ]
  },
  {
   "cell_type": "code",
   "execution_count": 22,
   "metadata": {},
   "outputs": [
    {
     "name": "stdout",
     "output_type": "stream",
     "text": [
      "Initial total: 0\n",
      "After adding 10: 10\n",
      "After subtracting 4: 6\n"
     ]
    }
   ],
   "source": [
    "# Write a program that utilizes global variables and demonstrates their use in functions.\n",
    "#\n",
    "# glob var\n",
    "total = 0\n",
    "\n",
    "def addtotal(number):\n",
    "    global total\n",
    "    total += number\n",
    "\n",
    "def subtotal(number):\n",
    "    global total \n",
    "    total -= number\n",
    "\n",
    "print(\"Initial total:\", total)\n",
    "\n",
    "addtotal(10)\n",
    "print(\"After adding 10:\", total)\n",
    "\n",
    "subtotal(4)\n",
    "print(\"After subtracting 4:\", total)\n"
   ]
  }
 ],
 "metadata": {
  "kernelspec": {
   "display_name": "Python 3",
   "language": "python",
   "name": "python3"
  },
  "language_info": {
   "codemirror_mode": {
    "name": "ipython",
    "version": 3
   },
   "file_extension": ".py",
   "mimetype": "text/x-python",
   "name": "python",
   "nbconvert_exporter": "python",
   "pygments_lexer": "ipython3",
   "version": "3.12.4"
  }
 },
 "nbformat": 4,
 "nbformat_minor": 2
}
